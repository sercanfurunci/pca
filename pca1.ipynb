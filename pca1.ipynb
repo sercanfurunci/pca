{
  "nbformat": 4,
  "nbformat_minor": 0,
  "metadata": {
    "colab": {
      "name": "pca1.ipynb",
      "provenance": []
    },
    "kernelspec": {
      "name": "python3",
      "display_name": "Python 3"
    },
    "language_info": {
      "name": "python"
    }
  },
  "cells": [
    {
      "cell_type": "code",
      "execution_count": 1,
      "metadata": {
        "id": "0ayHwpYH-PFA"
      },
      "outputs": [],
      "source": [
        "from sklearn.datasets import load_iris\n",
        "import pandas as pd\n",
        "\n",
        "# %%\n",
        "iris = load_iris()\n",
        "\n",
        "data = iris.data\n",
        "feature_names = iris.feature_names\n",
        "y = iris.target\n",
        "\n",
        "df = pd.DataFrame(data,columns = feature_names)\n",
        "df[\"sinif\"] = y\n",
        "\n",
        "x = data"
      ]
    },
    {
      "cell_type": "code",
      "source": [
        "#%% PCA\n",
        "from sklearn.decomposition import PCA\n",
        "pca = PCA(n_components = 2, whiten= True )  # whitten = normalize\n",
        "pca.fit(x)\n",
        "\n",
        "x_pca = pca.transform(x)\n",
        "\n",
        "print(\"variance ratio: \", pca.explained_variance_ratio_)\n",
        "\n",
        "print(\"sum: \",sum(pca.explained_variance_ratio_))"
      ],
      "metadata": {
        "colab": {
          "base_uri": "https://localhost:8080/"
        },
        "id": "KONmXbEU-Uwh",
        "outputId": "babd3334-0336-47c5-d959-e0a153cd6a57"
      },
      "execution_count": 2,
      "outputs": [
        {
          "output_type": "stream",
          "name": "stdout",
          "text": [
            "variance ratio:  [0.92461872 0.05306648]\n",
            "sum:  0.977685206318795\n"
          ]
        }
      ]
    },
    {
      "cell_type": "code",
      "source": [
        "#%% 2D\n",
        "\n",
        "df[\"p1\"] = x_pca[:,0]\n",
        "df[\"p2\"] = x_pca[:,1]\n",
        "\n",
        "color = [\"red\",\"green\",\"blue\"]\n",
        "\n",
        "import matplotlib.pyplot as plt\n",
        "for each in range(3):\n",
        "    plt.scatter(df.p1[df.sinif == each],df.p2[df.sinif == each],color = color[each],label = iris.target_names[each])\n",
        "    \n",
        "plt.legend()\n",
        "plt.xlabel(\"p1\")\n",
        "plt.ylabel(\"p2\")\n",
        "plt.show()"
      ],
      "metadata": {
        "colab": {
          "base_uri": "https://localhost:8080/",
          "height": 281
        },
        "id": "Fq7GrhXn-Wyt",
        "outputId": "b8914f1a-65d0-4862-a9b0-6b6bf3e02b98"
      },
      "execution_count": 3,
      "outputs": [
        {
          "output_type": "display_data",
          "data": {
            "text/plain": [
              "<Figure size 432x288 with 1 Axes>"
            ],
            "image/png": "[encoded data removed]"
          },
          "metadata": {
            "needs_background": "light"
          }
        }
      ]
    },
    {
      "cell_type": "code",
      "source": [
        ""
      ],
      "metadata": {
        "id": "vd3diBSS-ZeS"
      },
      "execution_count": null,
      "outputs": []
    }
  ]
}